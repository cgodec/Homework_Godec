{
  "nbformat": 4,
  "nbformat_minor": 0,
  "metadata": {
    "colab": {
      "provenance": [],
      "authorship_tag": "ABX9TyOhw+tX0opBcq5ehr3MZ8Ms",
      "include_colab_link": true
    },
    "kernelspec": {
      "name": "python3",
      "display_name": "Python 3"
    },
    "language_info": {
      "name": "python"
    }
  },
  "cells": [
    {
      "cell_type": "markdown",
      "metadata": {
        "id": "view-in-github",
        "colab_type": "text"
      },
      "source": [
        "<a href=\"https://colab.research.google.com/github/cgodec/Homework_Godec/blob/master/Homework2_Godec.ipynb\" target=\"_parent\"><img src=\"https://colab.research.google.com/assets/colab-badge.svg\" alt=\"Open In Colab\"/></a>"
      ]
    },
    {
      "cell_type": "code",
      "execution_count": null,
      "metadata": {
        "colab": {
          "base_uri": "https://localhost:8080/"
        },
        "id": "UK0Ihy1N5CIi",
        "outputId": "5b2dd74d-eb17-48b4-fb44-5d7f905f484b"
      },
      "outputs": [
        {
          "output_type": "stream",
          "name": "stdout",
          "text": [
            "List before sorting:\n",
            "[26, 70, 35, 51, 67, 65, 72, 15, 88, 37, 52, 50, 95, 92, 71, 87, 40, 38, 43, 81, 58, 12, 39, 36, 79, 100, 20, 77, 49, 61, 82, 90, 89, 64, 8, 57, 1, 62, 68, 21, 31, 76, 74, 4, 78, 18, 25, 22, 30, 84]\n",
            "List after sorting:\n",
            "[1, 4, 8, 12, 15, 18, 20, 21, 22, 25, 26, 30, 31, 35, 36, 37, 38, 39, 40, 43, 49, 50, 51, 52, 57, 58, 61, 62, 64, 65, 67, 68, 70, 71, 72, 74, 76, 77, 78, 79, 81, 82, 84, 87, 88, 89, 90, 92, 95, 100]\n"
          ]
        }
      ],
      "source": [
        "#BUBBLE SORT\n",
        "import random\n",
        "\n",
        "random.seed()\n",
        "random_list = random.sample(range(1, 101), 50)\n",
        "#Generate a random list of length 50 consisting of integers ranging from 1 to 100\n",
        "\n",
        "def bubble_sort(arr):\n",
        "  n = len(arr) #Sets n to the length of the list. In this case it would be 50.\n",
        "  for i in range(n): #Loop through the list (Outer loop)\n",
        "    for j in range(0, n-i-1): #Loop through the list up until the unsorted part. (Inner loop)\n",
        "      if arr[j] > arr[j+1]: #Compare the adjacent elements\n",
        "        arr[j], arr[j+1] = arr[j+1], arr[j] #Swap if they are in the wrong order\n",
        "\n",
        "print(\"List before sorting:\")\n",
        "print(random_list)\n",
        "#Output the unsorted list before it is ran through the bubble sort\n",
        "\n",
        "print(\"List after sorting:\")\n",
        "bubble_sort(random_list)\n",
        "print(random_list)\n",
        "#Output the sorted list after it is ran through the bubble sort"
      ]
    },
    {
      "cell_type": "code",
      "source": [
        "#INSERTION SORT\n",
        "import random\n",
        "\n",
        "random.seed()\n",
        "random_list = random.sample(range(1, 101), 50)\n",
        "#Generate a random list of length 50 consisting of integers ranging from 1 to 100\n",
        "\n",
        "def insertion_sort(arr):\n",
        "  n = len(arr) #Get the length of the array. In this case it would be 50.\n",
        "\n",
        "  if n <= 1:\n",
        "    return # If the array has 0 or 1 element, it is already sorted, so return\n",
        "\n",
        "  for i in range(1, n): #Iterate over the array starting from the second element\n",
        "    key = arr[i] #Store the current element as the key to be inserted in the right position\n",
        "    j = i-1\n",
        "    while j >=0 and key < arr[j]: #Move element greater than key one position ahead\n",
        "      arr[j+1] = arr[j] #Shift elements to the right\n",
        "      j -= 1\n",
        "    arr[j+1] = key #Insert the key in the right position\n",
        "\n",
        "\n",
        "print(\"List before sorting:\")\n",
        "print(random_list)\n",
        "#Output the unsorted list before it is ran through the insertion sort\n",
        "\n",
        "print(\"List after sorting:\")\n",
        "insertion_sort(random_list)\n",
        "print(random_list)\n",
        "#Output the sorted list after it is ran through the bubble sort\n"
      ],
      "metadata": {
        "colab": {
          "base_uri": "https://localhost:8080/"
        },
        "id": "PEIwA9kwLe9d",
        "outputId": "0496627d-aa7b-4716-cd94-c5531dd3d09b"
      },
      "execution_count": null,
      "outputs": [
        {
          "output_type": "stream",
          "name": "stdout",
          "text": [
            "List before sorting:\n",
            "[37, 20, 3, 27, 76, 95, 63, 10, 18, 33, 24, 86, 83, 50, 47, 87, 1, 88, 68, 89, 82, 55, 8, 11, 75, 70, 14, 53, 77, 13, 69, 54, 44, 25, 30, 59, 85, 73, 67, 36, 66, 26, 5, 51, 74, 42, 41, 9, 60, 96]\n",
            "List after sorting:\n",
            "[1, 3, 5, 8, 9, 10, 11, 13, 14, 18, 20, 24, 25, 26, 27, 30, 33, 36, 37, 41, 42, 44, 47, 50, 51, 53, 54, 55, 59, 60, 63, 66, 67, 68, 69, 70, 73, 74, 75, 76, 77, 82, 83, 85, 86, 87, 88, 89, 95, 96]\n"
          ]
        }
      ]
    }
  ]
}